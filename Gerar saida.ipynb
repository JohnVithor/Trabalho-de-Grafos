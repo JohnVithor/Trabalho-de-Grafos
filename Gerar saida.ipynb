{
 "cells": [
  {
   "cell_type": "code",
   "execution_count": 1,
   "metadata": {},
   "outputs": [],
   "source": [
    "import pandas as pd\n",
    "import matplotlib.pyplot as plt"
   ]
  },
  {
   "cell_type": "code",
   "execution_count": 3,
   "metadata": {},
   "outputs": [
    {
     "data": {
      "text/plain": [
       "3"
      ]
     },
     "execution_count": 3,
     "metadata": {},
     "output_type": "execute_result"
    }
   ],
   "source": [
    "turmas_color = pd.read_csv('Turmas/2018.2.color', sep=':', header=None, names=['Disciplina', 'Cor'])\n",
    "turmas = pd.read_csv('Turmas/2018.2.csv')\n",
    "len(turmas['Componente'])\n",
    "turmas_color['Cor'].max()"
   ]
  },
  {
   "cell_type": "code",
   "execution_count": 16,
   "metadata": {},
   "outputs": [
    {
     "name": "stderr",
     "output_type": "stream",
     "text": [
      "/home/jimmy/anaconda3/lib/python3.7/site-packages/ipykernel_launcher.py:2: SettingWithCopyWarning: \n",
      "A value is trying to be set on a copy of a slice from a DataFrame.\n",
      "Try using .loc[row_indexer,col_indexer] = value instead\n",
      "\n",
      "See the caveats in the documentation: http://pandas.pydata.org/pandas-docs/stable/indexing.html#indexing-view-versus-copy\n",
      "  \n"
     ]
    },
    {
     "data": {
      "text/plain": [
       "['DIM0118.1 - PRÁTICAS DE TÉCNICAS DE PROGRAMAÇÃO',\n",
       " 'DIM0114 - BANCO DE DADOS',\n",
       " 'DIM0109.0 - CIRCUITOS LÓGICOS',\n",
       " 'IMD0018 - PRÁTICAS DE LEITURA EM INGLÊS',\n",
       " 'IMD0407 - DESIGN DE SOFTWARE II',\n",
       " 'IMD0404 - DESENVOLVIMENTO DE SISTEMAS WEB I',\n",
       " 'IMD0012.1 - PRÁTICAS DE TÉCNICAS DE PROGRAMAÇÃO',\n",
       " 'IMD0012.0 - INTRODUÇÃO ÀS TÉCNICAS DE PROGRAMAÇÃO',\n",
       " 'IMD0012.1 - PRÁTICAS DE TÉCNICAS DE PROGRAMAÇÃO',\n",
       " 'IMD0012.0 - INTRODUÇÃO ÀS TÉCNICAS DE PROGRAMAÇÃO',\n",
       " 'IMD0012.0 - INTRODUÇÃO ÀS TÉCNICAS DE PROGRAMAÇÃO',\n",
       " 'IMD0012.0 - INTRODUÇÃO ÀS TÉCNICAS DE PROGRAMAÇÃO',\n",
       " 'IMD0028 - FUNDAMENTOS MATEMÁTICOS DA COMPUTAÇÃO I',\n",
       " 'IMD0018 - PRÁTICAS DE LEITURA EM INGLÊS',\n",
       " 'IMD0012.1 - PRÁTICAS DE TÉCNICAS DE PROGRAMAÇÃO',\n",
       " 'DIM0614 - PROGRAMAÇÃO DISTRIBUÍDA',\n",
       " 'DIM0537 - TÓPICOS ESPECIAIS EM ENGENHARIA DE SOFTWARE VII',\n",
       " 'IMD0020 - TECNOLOGIA DA INFORMAÇÃO E SOCIEDADE',\n",
       " 'IMD0012.1 - PRÁTICAS DE TÉCNICAS DE PROGRAMAÇÃO',\n",
       " 'IMD0012.1 - PRÁTICAS DE TÉCNICAS DE PROGRAMAÇÃO',\n",
       " 'IMD0029 - ESTRUTURA DE DADOS BÁSICAS I',\n",
       " 'IMD0030 - LINGUAGEM DE PROGRAMAÇÃO I',\n",
       " 'IMD0017 - PRÁTICAS DE LEITURA E ESCRITA EM PORTUGUÊS I',\n",
       " 'DIM0118.0 - INTRODUÇÃO ÀS TÉCNICAS DE PROGRAMAÇÃO',\n",
       " 'IMD0017 - PRÁTICAS DE LEITURA E ESCRITA EM PORTUGUÊS I',\n",
       " 'IMD0212 - INGLÊS NÍVEL BÁSICO',\n",
       " 'IMD0028 - FUNDAMENTOS MATEMÁTICOS DA COMPUTAÇÃO I']"
      ]
     },
     "execution_count": 16,
     "metadata": {},
     "output_type": "execute_result"
    }
   ],
   "source": [
    "idxs = turmas_color[turmas_color.Cor == 0]\n",
    "idxs['Disciplina'] += 1\n",
    "t = turmas.iloc[list(idxs['Disciplina'])]\n",
    "d = [di for di in list(t['Componente'])]\n",
    "#for i, d in enumerate(list(t['Componente'])):\n",
    "#    print(i,d)\n",
    "d"
   ]
  },
  {
   "cell_type": "code",
   "execution_count": null,
   "metadata": {},
   "outputs": [],
   "source": []
  }
 ],
 "metadata": {
  "kernelspec": {
   "display_name": "Python 3",
   "language": "python",
   "name": "python3"
  },
  "language_info": {
   "codemirror_mode": {
    "name": "ipython",
    "version": 3
   },
   "file_extension": ".py",
   "mimetype": "text/x-python",
   "name": "python",
   "nbconvert_exporter": "python",
   "pygments_lexer": "ipython3",
   "version": "3.7.0"
  }
 },
 "nbformat": 4,
 "nbformat_minor": 2
}
